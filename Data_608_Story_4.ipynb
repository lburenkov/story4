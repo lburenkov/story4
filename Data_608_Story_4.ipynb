{
  "nbformat": 4,
  "nbformat_minor": 0,
  "metadata": {
    "colab": {
      "provenance": []
    },
    "kernelspec": {
      "name": "python3",
      "display_name": "Python 3"
    },
    "language_info": {
      "name": "python"
    }
  },
  "cells": [
    {
      "cell_type": "markdown",
      "source": [
        "# Data 608 Story 4\n"
      ],
      "metadata": {
        "id": "Zn-R1k75NOI2"
      }
    },
    {
      "cell_type": "markdown",
      "source": [
        "I have introduced the term \"Data Practitioner\" as a generic job descriptor because we have so many different job role titles for individuals whose work activities overlap including Data Scientist, Data Engineer, Data Analyst, Business Analyst, Data Architect, etc.\n",
        "\n",
        "For this story we will answer the question, \"How much do we get paid?\" Your analysis and data visualizations must address the variation in average salary based on role descriptor and state."
      ],
      "metadata": {
        "id": "KdMy4GzoNQI3"
      }
    },
    {
      "cell_type": "markdown",
      "source": [
        "# Justification\n",
        "As we explore into data compensation, our emphasis on mid and senior-level positions remains crucial, including those of data scientists around the world. These roles bring extensive experience and expertise, shaping strategies and driving innovation within organizations, reflecting their value through compensation.\n",
        "\n",
        "Functioning as the backbone of data infrastructure, these professionals design architectures, develop algorithms, and significantly impact business outcomes globally. Analyzing their compensation trends provides insights into market dynamics, industry standards, and skill demands on a worldwide scale.\n",
        "\n",
        "By focusing on mid and senior-level roles, we gain understanding into factors affecting salary discrepancies like location and specialization, crucial for stakeholders—job seekers, employers, and policymakers—to make informed decisions.\n",
        "\n",
        "Our analysis on salary discrepancies offers insights into compensation structures, considering factors like job title, experience, education, and location, guiding individuals and organizations globally in navigating the data career landscape effectively.\n",
        "\n",
        "\n",
        "\n",
        "\n",
        "\n",
        "\n"
      ],
      "metadata": {
        "id": "EjSeKyT3OF5C"
      }
    },
    {
      "cell_type": "markdown",
      "source": [
        "## Loading libraries and dataset"
      ],
      "metadata": {
        "id": "NkYLJK-TyP2_"
      }
    },
    {
      "cell_type": "code",
      "source": [
        "import pandas as pd\n",
        "import numpy as np\n",
        "import matplotlib.pyplot as plt\n",
        "import seaborn as sns\n"
      ],
      "metadata": {
        "id": "fPpAR3lKPOam"
      },
      "execution_count": 76,
      "outputs": []
    },
    {
      "cell_type": "code",
      "source": [
        "from google.colab import drive\n",
        "drive.mount('/content/drive')"
      ],
      "metadata": {
        "colab": {
          "base_uri": "https://localhost:8080/"
        },
        "id": "p-Zf8ct1PZSP",
        "outputId": "d3595245-4cb7-402c-ab32-cedb62d00ce7"
      },
      "execution_count": 77,
      "outputs": [
        {
          "output_type": "stream",
          "name": "stdout",
          "text": [
            "Drive already mounted at /content/drive; to attempt to forcibly remount, call drive.mount(\"/content/drive\", force_remount=True).\n"
          ]
        }
      ]
    },
    {
      "cell_type": "code",
      "source": [
        "filename = 'data salaries.csv'\n",
        "df = pd.read_csv(filename)\n",
        "df.head()"
      ],
      "metadata": {
        "colab": {
          "base_uri": "https://localhost:8080/",
          "height": 330
        },
        "id": "E7zz1yPDOO11",
        "outputId": "23248992-0c46-4ba3-c39a-bff769b158be"
      },
      "execution_count": 78,
      "outputs": [
        {
          "output_type": "execute_result",
          "data": {
            "text/plain": [
              "   work_year experience_level employment_type                 job_title  \\\n",
              "0       2023               SE              FT  Principal Data Scientist   \n",
              "1       2023               MI              CT               ML Engineer   \n",
              "2       2023               MI              CT               ML Engineer   \n",
              "3       2023               SE              FT            Data Scientist   \n",
              "4       2023               SE              FT            Data Scientist   \n",
              "\n",
              "   salary salary_currency  salary_in_usd employee_residence  remote_ratio  \\\n",
              "0   80000             EUR          85847                 ES           100   \n",
              "1   30000             USD          30000                 US           100   \n",
              "2   25500             USD          25500                 US           100   \n",
              "3  175000             USD         175000                 CA           100   \n",
              "4  120000             USD         120000                 CA           100   \n",
              "\n",
              "  company_location company_size  \n",
              "0               ES            L  \n",
              "1               US            S  \n",
              "2               US            S  \n",
              "3               CA            M  \n",
              "4               CA            M  "
            ],
            "text/html": [
              "\n",
              "  <div id=\"df-48287126-c9af-4e07-8c43-0baf75beb94d\" class=\"colab-df-container\">\n",
              "    <div>\n",
              "<style scoped>\n",
              "    .dataframe tbody tr th:only-of-type {\n",
              "        vertical-align: middle;\n",
              "    }\n",
              "\n",
              "    .dataframe tbody tr th {\n",
              "        vertical-align: top;\n",
              "    }\n",
              "\n",
              "    .dataframe thead th {\n",
              "        text-align: right;\n",
              "    }\n",
              "</style>\n",
              "<table border=\"1\" class=\"dataframe\">\n",
              "  <thead>\n",
              "    <tr style=\"text-align: right;\">\n",
              "      <th></th>\n",
              "      <th>work_year</th>\n",
              "      <th>experience_level</th>\n",
              "      <th>employment_type</th>\n",
              "      <th>job_title</th>\n",
              "      <th>salary</th>\n",
              "      <th>salary_currency</th>\n",
              "      <th>salary_in_usd</th>\n",
              "      <th>employee_residence</th>\n",
              "      <th>remote_ratio</th>\n",
              "      <th>company_location</th>\n",
              "      <th>company_size</th>\n",
              "    </tr>\n",
              "  </thead>\n",
              "  <tbody>\n",
              "    <tr>\n",
              "      <th>0</th>\n",
              "      <td>2023</td>\n",
              "      <td>SE</td>\n",
              "      <td>FT</td>\n",
              "      <td>Principal Data Scientist</td>\n",
              "      <td>80000</td>\n",
              "      <td>EUR</td>\n",
              "      <td>85847</td>\n",
              "      <td>ES</td>\n",
              "      <td>100</td>\n",
              "      <td>ES</td>\n",
              "      <td>L</td>\n",
              "    </tr>\n",
              "    <tr>\n",
              "      <th>1</th>\n",
              "      <td>2023</td>\n",
              "      <td>MI</td>\n",
              "      <td>CT</td>\n",
              "      <td>ML Engineer</td>\n",
              "      <td>30000</td>\n",
              "      <td>USD</td>\n",
              "      <td>30000</td>\n",
              "      <td>US</td>\n",
              "      <td>100</td>\n",
              "      <td>US</td>\n",
              "      <td>S</td>\n",
              "    </tr>\n",
              "    <tr>\n",
              "      <th>2</th>\n",
              "      <td>2023</td>\n",
              "      <td>MI</td>\n",
              "      <td>CT</td>\n",
              "      <td>ML Engineer</td>\n",
              "      <td>25500</td>\n",
              "      <td>USD</td>\n",
              "      <td>25500</td>\n",
              "      <td>US</td>\n",
              "      <td>100</td>\n",
              "      <td>US</td>\n",
              "      <td>S</td>\n",
              "    </tr>\n",
              "    <tr>\n",
              "      <th>3</th>\n",
              "      <td>2023</td>\n",
              "      <td>SE</td>\n",
              "      <td>FT</td>\n",
              "      <td>Data Scientist</td>\n",
              "      <td>175000</td>\n",
              "      <td>USD</td>\n",
              "      <td>175000</td>\n",
              "      <td>CA</td>\n",
              "      <td>100</td>\n",
              "      <td>CA</td>\n",
              "      <td>M</td>\n",
              "    </tr>\n",
              "    <tr>\n",
              "      <th>4</th>\n",
              "      <td>2023</td>\n",
              "      <td>SE</td>\n",
              "      <td>FT</td>\n",
              "      <td>Data Scientist</td>\n",
              "      <td>120000</td>\n",
              "      <td>USD</td>\n",
              "      <td>120000</td>\n",
              "      <td>CA</td>\n",
              "      <td>100</td>\n",
              "      <td>CA</td>\n",
              "      <td>M</td>\n",
              "    </tr>\n",
              "  </tbody>\n",
              "</table>\n",
              "</div>\n",
              "    <div class=\"colab-df-buttons\">\n",
              "\n",
              "  <div class=\"colab-df-container\">\n",
              "    <button class=\"colab-df-convert\" onclick=\"convertToInteractive('df-48287126-c9af-4e07-8c43-0baf75beb94d')\"\n",
              "            title=\"Convert this dataframe to an interactive table.\"\n",
              "            style=\"display:none;\">\n",
              "\n",
              "  <svg xmlns=\"http://www.w3.org/2000/svg\" height=\"24px\" viewBox=\"0 -960 960 960\">\n",
              "    <path d=\"M120-120v-720h720v720H120Zm60-500h600v-160H180v160Zm220 220h160v-160H400v160Zm0 220h160v-160H400v160ZM180-400h160v-160H180v160Zm440 0h160v-160H620v160ZM180-180h160v-160H180v160Zm440 0h160v-160H620v160Z\"/>\n",
              "  </svg>\n",
              "    </button>\n",
              "\n",
              "  <style>\n",
              "    .colab-df-container {\n",
              "      display:flex;\n",
              "      gap: 12px;\n",
              "    }\n",
              "\n",
              "    .colab-df-convert {\n",
              "      background-color: #E8F0FE;\n",
              "      border: none;\n",
              "      border-radius: 50%;\n",
              "      cursor: pointer;\n",
              "      display: none;\n",
              "      fill: #1967D2;\n",
              "      height: 32px;\n",
              "      padding: 0 0 0 0;\n",
              "      width: 32px;\n",
              "    }\n",
              "\n",
              "    .colab-df-convert:hover {\n",
              "      background-color: #E2EBFA;\n",
              "      box-shadow: 0px 1px 2px rgba(60, 64, 67, 0.3), 0px 1px 3px 1px rgba(60, 64, 67, 0.15);\n",
              "      fill: #174EA6;\n",
              "    }\n",
              "\n",
              "    .colab-df-buttons div {\n",
              "      margin-bottom: 4px;\n",
              "    }\n",
              "\n",
              "    [theme=dark] .colab-df-convert {\n",
              "      background-color: #3B4455;\n",
              "      fill: #D2E3FC;\n",
              "    }\n",
              "\n",
              "    [theme=dark] .colab-df-convert:hover {\n",
              "      background-color: #434B5C;\n",
              "      box-shadow: 0px 1px 3px 1px rgba(0, 0, 0, 0.15);\n",
              "      filter: drop-shadow(0px 1px 2px rgba(0, 0, 0, 0.3));\n",
              "      fill: #FFFFFF;\n",
              "    }\n",
              "  </style>\n",
              "\n",
              "    <script>\n",
              "      const buttonEl =\n",
              "        document.querySelector('#df-48287126-c9af-4e07-8c43-0baf75beb94d button.colab-df-convert');\n",
              "      buttonEl.style.display =\n",
              "        google.colab.kernel.accessAllowed ? 'block' : 'none';\n",
              "\n",
              "      async function convertToInteractive(key) {\n",
              "        const element = document.querySelector('#df-48287126-c9af-4e07-8c43-0baf75beb94d');\n",
              "        const dataTable =\n",
              "          await google.colab.kernel.invokeFunction('convertToInteractive',\n",
              "                                                    [key], {});\n",
              "        if (!dataTable) return;\n",
              "\n",
              "        const docLinkHtml = 'Like what you see? Visit the ' +\n",
              "          '<a target=\"_blank\" href=https://colab.research.google.com/notebooks/data_table.ipynb>data table notebook</a>'\n",
              "          + ' to learn more about interactive tables.';\n",
              "        element.innerHTML = '';\n",
              "        dataTable['output_type'] = 'display_data';\n",
              "        await google.colab.output.renderOutput(dataTable, element);\n",
              "        const docLink = document.createElement('div');\n",
              "        docLink.innerHTML = docLinkHtml;\n",
              "        element.appendChild(docLink);\n",
              "      }\n",
              "    </script>\n",
              "  </div>\n",
              "\n",
              "\n",
              "<div id=\"df-c6d33838-6607-46e1-a6bd-3102457f0e62\">\n",
              "  <button class=\"colab-df-quickchart\" onclick=\"quickchart('df-c6d33838-6607-46e1-a6bd-3102457f0e62')\"\n",
              "            title=\"Suggest charts\"\n",
              "            style=\"display:none;\">\n",
              "\n",
              "<svg xmlns=\"http://www.w3.org/2000/svg\" height=\"24px\"viewBox=\"0 0 24 24\"\n",
              "     width=\"24px\">\n",
              "    <g>\n",
              "        <path d=\"M19 3H5c-1.1 0-2 .9-2 2v14c0 1.1.9 2 2 2h14c1.1 0 2-.9 2-2V5c0-1.1-.9-2-2-2zM9 17H7v-7h2v7zm4 0h-2V7h2v10zm4 0h-2v-4h2v4z\"/>\n",
              "    </g>\n",
              "</svg>\n",
              "  </button>\n",
              "\n",
              "<style>\n",
              "  .colab-df-quickchart {\n",
              "      --bg-color: #E8F0FE;\n",
              "      --fill-color: #1967D2;\n",
              "      --hover-bg-color: #E2EBFA;\n",
              "      --hover-fill-color: #174EA6;\n",
              "      --disabled-fill-color: #AAA;\n",
              "      --disabled-bg-color: #DDD;\n",
              "  }\n",
              "\n",
              "  [theme=dark] .colab-df-quickchart {\n",
              "      --bg-color: #3B4455;\n",
              "      --fill-color: #D2E3FC;\n",
              "      --hover-bg-color: #434B5C;\n",
              "      --hover-fill-color: #FFFFFF;\n",
              "      --disabled-bg-color: #3B4455;\n",
              "      --disabled-fill-color: #666;\n",
              "  }\n",
              "\n",
              "  .colab-df-quickchart {\n",
              "    background-color: var(--bg-color);\n",
              "    border: none;\n",
              "    border-radius: 50%;\n",
              "    cursor: pointer;\n",
              "    display: none;\n",
              "    fill: var(--fill-color);\n",
              "    height: 32px;\n",
              "    padding: 0;\n",
              "    width: 32px;\n",
              "  }\n",
              "\n",
              "  .colab-df-quickchart:hover {\n",
              "    background-color: var(--hover-bg-color);\n",
              "    box-shadow: 0 1px 2px rgba(60, 64, 67, 0.3), 0 1px 3px 1px rgba(60, 64, 67, 0.15);\n",
              "    fill: var(--button-hover-fill-color);\n",
              "  }\n",
              "\n",
              "  .colab-df-quickchart-complete:disabled,\n",
              "  .colab-df-quickchart-complete:disabled:hover {\n",
              "    background-color: var(--disabled-bg-color);\n",
              "    fill: var(--disabled-fill-color);\n",
              "    box-shadow: none;\n",
              "  }\n",
              "\n",
              "  .colab-df-spinner {\n",
              "    border: 2px solid var(--fill-color);\n",
              "    border-color: transparent;\n",
              "    border-bottom-color: var(--fill-color);\n",
              "    animation:\n",
              "      spin 1s steps(1) infinite;\n",
              "  }\n",
              "\n",
              "  @keyframes spin {\n",
              "    0% {\n",
              "      border-color: transparent;\n",
              "      border-bottom-color: var(--fill-color);\n",
              "      border-left-color: var(--fill-color);\n",
              "    }\n",
              "    20% {\n",
              "      border-color: transparent;\n",
              "      border-left-color: var(--fill-color);\n",
              "      border-top-color: var(--fill-color);\n",
              "    }\n",
              "    30% {\n",
              "      border-color: transparent;\n",
              "      border-left-color: var(--fill-color);\n",
              "      border-top-color: var(--fill-color);\n",
              "      border-right-color: var(--fill-color);\n",
              "    }\n",
              "    40% {\n",
              "      border-color: transparent;\n",
              "      border-right-color: var(--fill-color);\n",
              "      border-top-color: var(--fill-color);\n",
              "    }\n",
              "    60% {\n",
              "      border-color: transparent;\n",
              "      border-right-color: var(--fill-color);\n",
              "    }\n",
              "    80% {\n",
              "      border-color: transparent;\n",
              "      border-right-color: var(--fill-color);\n",
              "      border-bottom-color: var(--fill-color);\n",
              "    }\n",
              "    90% {\n",
              "      border-color: transparent;\n",
              "      border-bottom-color: var(--fill-color);\n",
              "    }\n",
              "  }\n",
              "</style>\n",
              "\n",
              "  <script>\n",
              "    async function quickchart(key) {\n",
              "      const quickchartButtonEl =\n",
              "        document.querySelector('#' + key + ' button');\n",
              "      quickchartButtonEl.disabled = true;  // To prevent multiple clicks.\n",
              "      quickchartButtonEl.classList.add('colab-df-spinner');\n",
              "      try {\n",
              "        const charts = await google.colab.kernel.invokeFunction(\n",
              "            'suggestCharts', [key], {});\n",
              "      } catch (error) {\n",
              "        console.error('Error during call to suggestCharts:', error);\n",
              "      }\n",
              "      quickchartButtonEl.classList.remove('colab-df-spinner');\n",
              "      quickchartButtonEl.classList.add('colab-df-quickchart-complete');\n",
              "    }\n",
              "    (() => {\n",
              "      let quickchartButtonEl =\n",
              "        document.querySelector('#df-c6d33838-6607-46e1-a6bd-3102457f0e62 button');\n",
              "      quickchartButtonEl.style.display =\n",
              "        google.colab.kernel.accessAllowed ? 'block' : 'none';\n",
              "    })();\n",
              "  </script>\n",
              "</div>\n",
              "\n",
              "    </div>\n",
              "  </div>\n"
            ],
            "application/vnd.google.colaboratory.intrinsic+json": {
              "type": "dataframe",
              "variable_name": "df",
              "summary": "{\n  \"name\": \"df\",\n  \"rows\": 3755,\n  \"fields\": [\n    {\n      \"column\": \"work_year\",\n      \"properties\": {\n        \"dtype\": \"number\",\n        \"std\": 0,\n        \"min\": 2020,\n        \"max\": 2023,\n        \"num_unique_values\": 4,\n        \"samples\": [\n          2022,\n          2021,\n          2023\n        ],\n        \"semantic_type\": \"\",\n        \"description\": \"\"\n      }\n    },\n    {\n      \"column\": \"experience_level\",\n      \"properties\": {\n        \"dtype\": \"category\",\n        \"num_unique_values\": 4,\n        \"samples\": [\n          \"MI\",\n          \"EX\",\n          \"SE\"\n        ],\n        \"semantic_type\": \"\",\n        \"description\": \"\"\n      }\n    },\n    {\n      \"column\": \"employment_type\",\n      \"properties\": {\n        \"dtype\": \"category\",\n        \"num_unique_values\": 4,\n        \"samples\": [\n          \"CT\",\n          \"PT\",\n          \"FT\"\n        ],\n        \"semantic_type\": \"\",\n        \"description\": \"\"\n      }\n    },\n    {\n      \"column\": \"job_title\",\n      \"properties\": {\n        \"dtype\": \"category\",\n        \"num_unique_values\": 93,\n        \"samples\": [\n          \"Cloud Database Engineer\",\n          \"Staff Data Analyst\",\n          \"Insight Analyst\"\n        ],\n        \"semantic_type\": \"\",\n        \"description\": \"\"\n      }\n    },\n    {\n      \"column\": \"salary\",\n      \"properties\": {\n        \"dtype\": \"number\",\n        \"std\": 671676,\n        \"min\": 6000,\n        \"max\": 30400000,\n        \"num_unique_values\": 815,\n        \"samples\": [\n          84570,\n          138000,\n          370000\n        ],\n        \"semantic_type\": \"\",\n        \"description\": \"\"\n      }\n    },\n    {\n      \"column\": \"salary_currency\",\n      \"properties\": {\n        \"dtype\": \"category\",\n        \"num_unique_values\": 20,\n        \"samples\": [\n          \"EUR\",\n          \"MXN\",\n          \"DKK\"\n        ],\n        \"semantic_type\": \"\",\n        \"description\": \"\"\n      }\n    },\n    {\n      \"column\": \"salary_in_usd\",\n      \"properties\": {\n        \"dtype\": \"number\",\n        \"std\": 63055,\n        \"min\": 5132,\n        \"max\": 450000,\n        \"num_unique_values\": 1035,\n        \"samples\": [\n          205600,\n          375000,\n          140700\n        ],\n        \"semantic_type\": \"\",\n        \"description\": \"\"\n      }\n    },\n    {\n      \"column\": \"employee_residence\",\n      \"properties\": {\n        \"dtype\": \"category\",\n        \"num_unique_values\": 78,\n        \"samples\": [\n          \"AR\",\n          \"ES\",\n          \"AM\"\n        ],\n        \"semantic_type\": \"\",\n        \"description\": \"\"\n      }\n    },\n    {\n      \"column\": \"remote_ratio\",\n      \"properties\": {\n        \"dtype\": \"number\",\n        \"std\": 48,\n        \"min\": 0,\n        \"max\": 100,\n        \"num_unique_values\": 3,\n        \"samples\": [\n          100,\n          0,\n          50\n        ],\n        \"semantic_type\": \"\",\n        \"description\": \"\"\n      }\n    },\n    {\n      \"column\": \"company_location\",\n      \"properties\": {\n        \"dtype\": \"category\",\n        \"num_unique_values\": 72,\n        \"samples\": [\n          \"GB\",\n          \"MY\",\n          \"SG\"\n        ],\n        \"semantic_type\": \"\",\n        \"description\": \"\"\n      }\n    },\n    {\n      \"column\": \"company_size\",\n      \"properties\": {\n        \"dtype\": \"category\",\n        \"num_unique_values\": 3,\n        \"samples\": [\n          \"L\",\n          \"S\",\n          \"M\"\n        ],\n        \"semantic_type\": \"\",\n        \"description\": \"\"\n      }\n    }\n  ]\n}"
            }
          },
          "metadata": {},
          "execution_count": 78
        }
      ]
    },
    {
      "cell_type": "markdown",
      "source": [
        "## Columns description"
      ],
      "metadata": {
        "id": "yUOkZh5tyF8S"
      }
    },
    {
      "cell_type": "code",
      "source": [
        "# Print the names of the columns\n",
        "print(df.columns)\n"
      ],
      "metadata": {
        "colab": {
          "base_uri": "https://localhost:8080/"
        },
        "id": "s3jkE93WQFGP",
        "outputId": "f1aadbd3-7e4c-4d2d-d4ac-945c006123d7"
      },
      "execution_count": 79,
      "outputs": [
        {
          "output_type": "stream",
          "name": "stdout",
          "text": [
            "Index(['work_year', 'experience_level', 'employment_type', 'job_title',\n",
            "       'salary', 'salary_currency', 'salary_in_usd', 'employee_residence',\n",
            "       'remote_ratio', 'company_location', 'company_size'],\n",
            "      dtype='object')\n"
          ]
        }
      ]
    },
    {
      "cell_type": "markdown",
      "source": [
        "Data Science Job Salaries Dataset contains 11 columns, each are:\n",
        "\n",
        "work_year: The year the salary was paid.\n",
        "\n",
        "experience_level: The experience level in the job during the year\n",
        "\n",
        "employment_type: The type of employment for the role\n",
        "\n",
        "job_title: The role worked in during the year.\n",
        "\n",
        "salary: The total gross salary amount paid.\n",
        "\n",
        "salary_currency: The currency of the salary paid as an ISO 4217 currency code.\n",
        "\n",
        "salaryinusd: The salary in USD\n",
        "\n",
        "employee_residence: Employee's primary country of residence in during the work year as an ISO 3166 country code.\n",
        "\n",
        "remote_ratio: The overall amount of work done remotely\n",
        "\n",
        "company_location: The country of the employer's main office or contracting branch\n",
        "\n",
        "company_size: The median number of people that worked for the company during the year"
      ],
      "metadata": {
        "id": "gz178OP7QVa-"
      }
    },
    {
      "cell_type": "markdown",
      "source": [
        "## Mapping country codes to Continents"
      ],
      "metadata": {
        "id": "tNxcH6Q1yYjz"
      }
    },
    {
      "cell_type": "code",
      "source": [
        "# Defining the dictionary mapping country codes to continents\n",
        "code_to_continent = {\n",
        "    'ES': 'Europe',\n",
        "    'US': 'North America',\n",
        "    'CA': 'North America',\n",
        "    'DE': 'Europe',\n",
        "    'GB': 'Europe',\n",
        "    'NG': 'Africa',\n",
        "    'IN': 'Asia',\n",
        "    'HK': 'Asia',\n",
        "    'NL': 'Europe',\n",
        "    'CH': 'Europe', 'CF': 'Africa',\n",
        "    'FR': 'Europe',\n",
        "    'FI': 'Europe',\n",
        "    'UA': 'Europe',\n",
        "    'IE': 'Europe',\n",
        "    'IL': 'Asia',\n",
        "    'GH': 'Africa',\n",
        "    'CO': 'South America',\n",
        "    'SG': 'Asia',\n",
        "    'AU': 'Oceania',\n",
        "    'SE': 'Europe',\n",
        "    'SI': 'Europe',\n",
        "    'MX': 'North America',\n",
        "    'BR': 'South America',\n",
        "    'PT': 'Europe',\n",
        "    'RU': 'Europe/Asia', 'HR': 'Europe',\n",
        "    'VN': 'Asia',\n",
        "    'EE': 'Europe',\n",
        "    'AM': 'Asia',\n",
        "    'BA': 'Europe',\n",
        "    'KE': 'Africa',\n",
        "    'GR': 'Europe',\n",
        "    'MK': 'Europe',\n",
        "    'LV': 'Europe',\n",
        "    'RO': 'Europe',\n",
        "    'PK': 'Asia',\n",
        "    'IT': 'Europe',\n",
        "    'MA': 'Africa',\n",
        "    'PL': 'Europe','AL': 'Europe',\n",
        "    'AR': 'South America',\n",
        "    'LT': 'Europe',\n",
        "    'AS': 'Oceania',\n",
        "    'CR': 'North America',\n",
        "    'IR': 'Asia',\n",
        "    'BS': 'North America',\n",
        "    'HU': 'Europe',\n",
        "    'AT': 'Europe',\n",
        "    'SK': 'Europe',\n",
        "    'CZ': 'Europe',\n",
        "    'TR': 'Asia',\n",
        "    'PR': 'North America',\n",
        "    'DK': 'Europe',\n",
        "    'BO': 'South America',\n",
        "    'PH': 'Asia','BE': 'Europe',\n",
        "    'ID': 'Asia',\n",
        "    'EG': 'Africa',\n",
        "    'AE': 'Asia',\n",
        "    'LU': 'Europe',\n",
        "    'MY': 'Asia',\n",
        "    'HN': 'North America',\n",
        "    'JP': 'Asia',\n",
        "    'DZ': 'Africa',\n",
        "    'IQ': 'Asia',\n",
        "    'CN': 'Asia',\n",
        "    'NZ': 'Oceania',\n",
        "    'CL': 'South America',\n",
        "    'MD': 'Europe',\n",
        "    'MT': 'Europe'\n",
        "}"
      ],
      "metadata": {
        "id": "Z54O1HJlT7Bz"
      },
      "execution_count": 80,
      "outputs": []
    },
    {
      "cell_type": "code",
      "source": [
        "# Defining the dictionary mapping country codes to continents\n",
        "code_to_continent = {\n",
        "    'ES': 'Europe',\n",
        "    'US': 'North America',\n",
        "    'CA': 'North America',\n",
        "    'DE': 'Europe',\n",
        "    'GB': 'Europe',\n",
        "    'NG': 'Africa',\n",
        "    'IN': 'Asia',\n",
        "    'HK': 'Asia',\n",
        "    'NL': 'Europe',\n",
        "    'CH': 'Europe',\n",
        "    'CF': 'Africa',\n",
        "    'FR': 'Europe',\n",
        "    'FI': 'Europe',\n",
        "    'UA': 'Europe',\n",
        "    'IE': 'Europe',\n",
        "    'IL': 'Asia',\n",
        "    'GH': 'Africa',\n",
        "    'CO': 'South America',\n",
        "    'SG': 'Asia',\n",
        "    'AU': 'Oceania',\n",
        "    'SE': 'Europe',\n",
        "    'SI': 'Europe',\n",
        "    'MX': 'North America',\n",
        "    'BR': 'South America',\n",
        "    'PT': 'Europe',\n",
        "    'RU': 'Europe/Asia',\n",
        "    'HR': 'Europe',\n",
        "    'VN': 'Asia',\n",
        "    'EE': 'Europe',\n",
        "    'AM': 'Asia',\n",
        "    'BA': 'Europe',\n",
        "    'KE': 'Africa',\n",
        "    'GR': 'Europe',\n",
        "    'MK': 'Europe',\n",
        "    'LV': 'Europe',\n",
        "    'RO': 'Europe',\n",
        "    'PK': 'Asia',\n",
        "    'IT': 'Europe',\n",
        "    'MA': 'Africa',\n",
        "    'PL': 'Europe',\n",
        "    'AL': 'Europe',\n",
        "    'AR': 'South America',\n",
        "    'LT': 'Europe',\n",
        "    'AS': 'Oceania',\n",
        "    'CR': 'North America',\n",
        "    'IR': 'Asia',\n",
        "    'BS': 'North America',\n",
        "    'HU': 'Europe',\n",
        "    'AT': 'Europe',\n",
        "    'SK': 'Europe',\n",
        "    'CZ': 'Europe',\n",
        "    'TR': 'Asia',\n",
        "    'PR': 'North America',\n",
        "    'DK': 'Europe',\n",
        "    'BO': 'South America',\n",
        "    'PH': 'Asia',\n",
        "    'BE': 'Europe',\n",
        "    'ID': 'Asia',\n",
        "    'EG': 'Africa',\n",
        "    'AE': 'Asia',\n",
        "    'LU': 'Europe',\n",
        "    'MY': 'Asia',\n",
        "    'HN': 'North America',\n",
        "    'JP': 'Asia',\n",
        "    'DZ': 'Africa',\n",
        "    'IQ': 'Asia',\n",
        "    'CN': 'Asia',\n",
        "    'NZ': 'Oceania',\n",
        "    'CL': 'South America',\n",
        "    'MD': 'Europe',\n",
        "    'MT': 'Europe'\n",
        "}\n"
      ],
      "metadata": {
        "id": "FZ7Wif-_WOt8"
      },
      "execution_count": 81,
      "outputs": []
    },
    {
      "cell_type": "code",
      "source": [
        "# Defining the list of country codes\n",
        "country_codes = ['ES', 'US', 'CA', 'DE', 'GB', 'NG', 'IN', 'HK', 'NL', 'CH', 'CF', 'FR', 'FI', 'UA',\n",
        " 'IE', 'IL', 'GH', 'CO', 'SG', 'AU', 'SE', 'SI', 'MX', 'BR', 'PT', 'RU', 'TH', 'HR',\n",
        " 'VN', 'EE', 'AM', 'BA', 'KE', 'GR', 'MK', 'LV', 'RO', 'PK', 'IT', 'MA', 'PL', 'AL',\n",
        " 'AR', 'LT', 'AS', 'CR', 'IR', 'BS', 'HU', 'AT', 'SK', 'CZ', 'TR', 'PR', 'DK', 'BO',\n",
        " 'PH', 'BE', 'ID']\n",
        "\n",
        "unique_continents = set(code_to_continent.values())\n",
        "print(unique_continents)"
      ],
      "metadata": {
        "colab": {
          "base_uri": "https://localhost:8080/"
        },
        "id": "mAorEm8qUEVz",
        "outputId": "5cf8ab1c-aace-4146-f635-a0d0cf75572e"
      },
      "execution_count": 82,
      "outputs": [
        {
          "output_type": "stream",
          "name": "stdout",
          "text": [
            "{'Oceania', 'South America', 'North America', 'Europe', 'Asia', 'Africa', 'Europe/Asia'}\n"
          ]
        }
      ]
    },
    {
      "cell_type": "code",
      "source": [
        "# Checking unique values in the column containing continent names\n",
        "print(df['employee_residence'].unique())\n",
        "\n",
        "# Checking for missing values or NaNs in the column containing continent names\n",
        "print(df['employee_residence'].isnull().sum())\n",
        "\n",
        "# Checking if the continent names in the code_to_continent dictionary are correct\n",
        "print(code_to_continent.values())\n",
        "\n",
        "# Checking the range of values in the column containing salary data\n",
        "print(df['salary_in_usd'].min())\n",
        "print(df['salary_in_usd'].max())\n",
        "\n",
        "# Checking the count of unique values in the column containing continent names\n",
        "print(df['employee_residence'].value_counts())\n",
        "\n"
      ],
      "metadata": {
        "colab": {
          "base_uri": "https://localhost:8080/"
        },
        "id": "njpBOe0cW--y",
        "outputId": "a422ca00-29fc-47bb-9d7b-a573bcc0db41"
      },
      "execution_count": 66,
      "outputs": [
        {
          "output_type": "stream",
          "name": "stdout",
          "text": [
            "['ES' 'US' 'CA' 'DE' 'GB' 'NG' 'IN' 'HK' 'PT' 'NL' 'CH' 'CF' 'FR' 'AU'\n",
            " 'FI' 'UA' 'IE' 'IL' 'GH' 'AT' 'CO' 'SG' 'SE' 'SI' 'MX' 'UZ' 'BR' 'TH'\n",
            " 'HR' 'PL' 'KW' 'VN' 'CY' 'AR' 'AM' 'BA' 'KE' 'GR' 'MK' 'LV' 'RO' 'PK'\n",
            " 'IT' 'MA' 'LT' 'BE' 'AS' 'IR' 'HU' 'SK' 'CN' 'CZ' 'CR' 'TR' 'CL' 'PR'\n",
            " 'DK' 'BO' 'PH' 'DO' 'EG' 'ID' 'AE' 'MY' 'JP' 'EE' 'HN' 'TN' 'RU' 'DZ'\n",
            " 'IQ' 'BG' 'JE' 'RS' 'NZ' 'MD' 'LU' 'MT']\n",
            "0\n",
            "dict_values(['Europe', 'North America', 'North America', 'Europe', 'Europe', 'Africa', 'Asia', 'Asia', 'Europe', 'Europe', 'Africa', 'Europe', 'Europe', 'Europe', 'Europe', 'Asia', 'Africa', 'South America', 'Asia', 'Oceania', 'Europe', 'Europe', 'North America', 'South America', 'Europe', 'Europe/Asia', 'Europe', 'Asia', 'Europe', 'Asia', 'Europe', 'Africa', 'Europe', 'Europe', 'Europe', 'Europe', 'Asia', 'Europe', 'Africa', 'Europe', 'Europe', 'South America', 'Europe', 'Oceania', 'North America', 'Asia', 'North America', 'Europe', 'Europe', 'Europe', 'Europe', 'Asia', 'North America', 'Europe', 'South America', 'Asia', 'Europe', 'Asia', 'Africa', 'Asia', 'Europe', 'Asia', 'North America', 'Asia', 'Africa', 'Asia', 'Asia', 'Oceania', 'South America', 'Europe', 'Europe'])\n",
            "5132\n",
            "450000\n",
            "US    3004\n",
            "GB     167\n",
            "CA      85\n",
            "ES      80\n",
            "IN      71\n",
            "      ... \n",
            "BA       1\n",
            "AM       1\n",
            "CY       1\n",
            "KW       1\n",
            "MT       1\n",
            "Name: employee_residence, Length: 78, dtype: int64\n"
          ]
        }
      ]
    },
    {
      "cell_type": "code",
      "source": [
        "print(df.columns)"
      ],
      "metadata": {
        "colab": {
          "base_uri": "https://localhost:8080/"
        },
        "id": "HPJ49v36YPzj",
        "outputId": "65d79146-e49e-46fc-9bfb-9a7d91a544a5"
      },
      "execution_count": 83,
      "outputs": [
        {
          "output_type": "stream",
          "name": "stdout",
          "text": [
            "Index(['work_year', 'experience_level', 'employment_type', 'job_title',\n",
            "       'salary', 'salary_currency', 'salary_in_usd', 'employee_residence',\n",
            "       'remote_ratio', 'company_location', 'company_size'],\n",
            "      dtype='object')\n"
          ]
        }
      ]
    },
    {
      "cell_type": "code",
      "source": [
        "# Defining the dictionary mapping country codes to continents\n",
        "code_to_continent = {\n",
        "    'ES': 'Europe', 'US': 'North America', 'CA': 'North America', 'DE': 'Europe', 'GB': 'Europe',\n",
        "    'NG': 'Africa', 'IN': 'Asia', 'HK': 'Asia', 'NL': 'Europe', 'CH': 'Europe', 'CF': 'Africa',\n",
        "    'FR': 'Europe', 'FI': 'Europe', 'UA': 'Europe', 'IE': 'Europe', 'IL': 'Asia', 'GH': 'Africa',\n",
        "    'CO': 'South America', 'SG': 'Asia', 'AU': 'Oceania', 'SE': 'Europe', 'SI': 'Europe', 'MX': 'North America',\n",
        "    'BR': 'South America', 'PT': 'Europe', 'RU': 'Europe/Asia', 'HR': 'Europe', 'VN': 'Asia', 'EE': 'Europe',\n",
        "    'AM': 'Asia', 'BA': 'Europe', 'KE': 'Africa', 'GR': 'Europe', 'MK': 'Europe', 'LV': 'Europe', 'RO': 'Europe',\n",
        "    'PK': 'Asia', 'IT': 'Europe', 'MA': 'Africa', 'PL': 'Europe', 'AL': 'Europe', 'AR': 'South America',\n",
        "    'LT': 'Europe', 'AS': 'Oceania', 'CR': 'North America', 'IR': 'Asia', 'BS': 'North America', 'HU': 'Europe',\n",
        "    'AT': 'Europe', 'SK': 'Europe', 'CZ': 'Europe', 'TR': 'Asia', 'PR': 'North America', 'DK': 'Europe',\n",
        "    'BO': 'South America', 'PH': 'Asia', 'BE': 'Europe', 'ID': 'Asia', 'EG': 'Africa', 'AE': 'Asia',\n",
        "    'LU': 'Europe', 'MY': 'Asia', 'HN': 'North America', 'JP': 'Asia', 'DZ': 'Africa', 'IQ': 'Asia', 'CN': 'Asia',\n",
        "    'NZ': 'Oceania', 'CL': 'South America', 'MD': 'Europe', 'MT': 'Europe'\n",
        "}\n",
        "\n",
        "# Add continent column to the DataFrame based on the country codes\n",
        "df['continent'] = df['employee_residence'].map(code_to_continent)\n",
        "\n",
        "# Check the updated DataFrame\n",
        "print(df.head())\n"
      ],
      "metadata": {
        "colab": {
          "base_uri": "https://localhost:8080/"
        },
        "id": "kwVIOav9sFGm",
        "outputId": "5fcfb626-1b05-4919-c762-3e0130bf569c"
      },
      "execution_count": 84,
      "outputs": [
        {
          "output_type": "stream",
          "name": "stdout",
          "text": [
            "   work_year experience_level employment_type                 job_title  \\\n",
            "0       2023               SE              FT  Principal Data Scientist   \n",
            "1       2023               MI              CT               ML Engineer   \n",
            "2       2023               MI              CT               ML Engineer   \n",
            "3       2023               SE              FT            Data Scientist   \n",
            "4       2023               SE              FT            Data Scientist   \n",
            "\n",
            "   salary salary_currency  salary_in_usd employee_residence  remote_ratio  \\\n",
            "0   80000             EUR          85847                 ES           100   \n",
            "1   30000             USD          30000                 US           100   \n",
            "2   25500             USD          25500                 US           100   \n",
            "3  175000             USD         175000                 CA           100   \n",
            "4  120000             USD         120000                 CA           100   \n",
            "\n",
            "  company_location company_size      continent  \n",
            "0               ES            L         Europe  \n",
            "1               US            S  North America  \n",
            "2               US            S  North America  \n",
            "3               CA            M  North America  \n",
            "4               CA            M  North America  \n"
          ]
        }
      ]
    },
    {
      "cell_type": "code",
      "source": [
        "print(df.columns)"
      ],
      "metadata": {
        "colab": {
          "base_uri": "https://localhost:8080/"
        },
        "id": "WTx-dUAUsH8Z",
        "outputId": "7d74bd25-056e-4a1c-8538-f1a7adc025ea"
      },
      "execution_count": 85,
      "outputs": [
        {
          "output_type": "stream",
          "name": "stdout",
          "text": [
            "Index(['work_year', 'experience_level', 'employment_type', 'job_title',\n",
            "       'salary', 'salary_currency', 'salary_in_usd', 'employee_residence',\n",
            "       'remote_ratio', 'company_location', 'company_size', 'continent'],\n",
            "      dtype='object')\n"
          ]
        }
      ]
    },
    {
      "cell_type": "markdown",
      "source": [
        "## Data by Continent, experience level and average salary"
      ],
      "metadata": {
        "id": "c0dsqitbyrTi"
      }
    },
    {
      "cell_type": "code",
      "source": [
        "# Group the data by continent and experience_level, and calculate the average salary\n",
        "grouped_df = df.groupby(['continent', 'experience_level'])['salary'].mean().reset_index()\n",
        "\n",
        "# Pivot the data to have continents as rows, experience levels as columns, and average salary as values\n",
        "pivot_df = grouped_df.pivot(index='continent', columns='experience_level', values='salary')\n",
        "\n",
        "# Printing the pivot table\n",
        "print(pivot_df)\n"
      ],
      "metadata": {
        "colab": {
          "base_uri": "https://localhost:8080/"
        },
        "id": "ehTTl8XfuBXu",
        "outputId": "3b1bccb7-1206-490f-9c64-aca26bd2fb4b"
      },
      "execution_count": 89,
      "outputs": [
        {
          "output_type": "stream",
          "name": "stdout",
          "text": [
            "experience_level             EN          EX            MI            SE\n",
            "continent                                                              \n",
            "Africa             38038.857143    15000.00  4.570000e+04  8.250000e+04\n",
            "Asia              727530.100000  3075000.00  1.290376e+06  2.178050e+06\n",
            "Europe            154576.571429   100723.75  1.634056e+05  7.848427e+04\n",
            "Europe/Asia                 NaN   157500.00  4.800000e+04  6.000000e+04\n",
            "North America     103770.313187   207436.61  1.282562e+05  1.591025e+05\n",
            "Oceania            77200.000000         NaN  8.809250e+04  1.393333e+05\n",
            "South America      41794.400000         NaN  2.227507e+06  8.133333e+04\n"
          ]
        }
      ]
    },
    {
      "cell_type": "markdown",
      "source": [
        "## Visualization: Average salary by Continent"
      ],
      "metadata": {
        "id": "NYiXCG22zBlj"
      }
    },
    {
      "cell_type": "code",
      "source": [
        "import matplotlib.ticker as ticker\n",
        "\n",
        "# Calculating the average salary by continent\n",
        "average_salary_by_continent = df[df['employee_residence'].isin(country_codes)].groupby(df['employee_residence'].map(code_to_continent))['salary_in_usd'].mean().round()\n",
        "\n",
        "# Setting the figure size\n",
        "plt.figure(figsize=(10, 6))\n",
        "\n",
        "# Creating the bar plot using seaborn palette\n",
        "sns.barplot(x=average_salary_by_continent.index, y=average_salary_by_continent.values, palette='viridis')\n",
        "\n",
        "# Adding value labels to the bars with \"k\" notation for thousands\n",
        "for i, value in enumerate(average_salary_by_continent.values):\n",
        "    formatted_value = f'${value/1000:.1f}k'\n",
        "    plt.text(i, value, formatted_value, ha='center', va='bottom')\n",
        "\n",
        "# Setting plot title and labels\n",
        "plt.title('Average Salary by Continent')\n",
        "plt.xlabel('Continent')\n",
        "plt.ylabel('Average Salary (USD)')\n",
        "\n",
        "# Rotating x-axis labels for better readability\n",
        "plt.xticks(rotation=45)\n",
        "\n",
        "# Formatting y-axis ticks with \"k\" notation\n",
        "plt.gca().yaxis.set_major_formatter(ticker.FuncFormatter(lambda x, pos: f'{x/1000:.0f}k'))\n",
        "\n",
        "# Showing the plot\n",
        "plt.show()"
      ],
      "metadata": {
        "colab": {
          "base_uri": "https://localhost:8080/",
          "height": 773
        },
        "id": "-nSTyZE8URDk",
        "outputId": "6e91f8d4-3104-41d3-830c-7ac180f18a3d"
      },
      "execution_count": 93,
      "outputs": [
        {
          "output_type": "stream",
          "name": "stderr",
          "text": [
            "<ipython-input-93-5d1e4645e2de>:10: FutureWarning:\n",
            "\n",
            "\n",
            "\n",
            "Passing `palette` without assigning `hue` is deprecated and will be removed in v0.14.0. Assign the `x` variable to `hue` and set `legend=False` for the same effect.\n",
            "\n",
            "\n"
          ]
        },
        {
          "output_type": "display_data",
          "data": {
            "text/plain": [
              "<Figure size 1000x600 with 1 Axes>"
            ],
            "image/png": "[encoded data removed]"
          },
          "metadata": {}
        }
      ]
    },
    {
      "cell_type": "code",
      "source": [
        "import seaborn as sns\n",
        "import matplotlib.pyplot as plt\n",
        "\n",
        "# Group the data by continent and experience_level, and calculate the average salary\n",
        "grouped_df = df.groupby(['continent', 'experience_level'])['salary'].mean().reset_index()\n",
        "\n",
        "# Set the figure size\n",
        "plt.figure(figsize=(12, 8))\n",
        "\n",
        "# Create the bar plot\n",
        "sns.barplot(data=grouped_df, x='continent', y='salary', hue='experience_level', palette='viridis')\n",
        "\n",
        "# Add a title and labels\n",
        "plt.title('Average Salary by Experience Level and Continent')\n",
        "plt.xlabel('Continent')\n",
        "plt.ylabel('Average Salary (USD)')\n",
        "plt.xticks(rotation=45)\n",
        "plt.legend(title='Experience Level')\n",
        "\n",
        "# Show the plot\n",
        "plt.tight_layout()\n",
        "plt.show()\n",
        "\n"
      ],
      "metadata": {
        "colab": {
          "base_uri": "https://localhost:8080/",
          "height": 634
        },
        "id": "7JVwlKUYsdYd",
        "outputId": "99e23d3b-c07e-46b9-e5af-47a2a9b37f41"
      },
      "execution_count": 88,
      "outputs": [
        {
          "output_type": "display_data",
          "data": {
            "text/plain": [
              "<Figure size 1200x800 with 1 Axes>"
            ],
            "image/png": "[encoded data removed]"
          },
          "metadata": {}
        }
      ]
    },
    {
      "cell_type": "markdown",
      "source": [
        "## Visualization: Salary by Experience and Continent"
      ],
      "metadata": {
        "id": "zG4K3wFQzLVu"
      }
    },
    {
      "cell_type": "code",
      "source": [
        "import pandas as pd\n",
        "import plotly.express as px\n",
        "\n",
        "# Group the data by continent and a sub-group (e.g., 'employment_type')\n",
        "subgroup_average = df.groupby(['continent', 'employment_type'])['salary_in_usd'].mean().reset_index()\n",
        "\n",
        "# Calculate the average salary per continent\n",
        "average_salary_per_continent = subgroup_average.groupby('continent')['salary_in_usd'].mean().reset_index(name='average_salary')\n",
        "\n",
        "print(average_salary_per_continent)\n",
        "\n",
        "\n",
        "\n"
      ],
      "metadata": {
        "colab": {
          "base_uri": "https://localhost:8080/"
        },
        "id": "roAsiZlsQAXN",
        "outputId": "83e0eb2b-0bcc-40c7-c79a-2910b9fd1e1c"
      },
      "execution_count": 92,
      "outputs": [
        {
          "output_type": "stream",
          "name": "stdout",
          "text": [
            "       continent  average_salary\n",
            "0         Africa    65745.000000\n",
            "1           Asia    51385.375000\n",
            "2         Europe    48257.720100\n",
            "3    Europe/Asia    90500.000000\n",
            "4  North America   105834.905027\n",
            "5        Oceania    61346.192308\n",
            "6  South America    24097.526882\n"
          ]
        }
      ]
    },
    {
      "cell_type": "markdown",
      "source": [
        "## Visualization: Average Salary by Continent"
      ],
      "metadata": {
        "id": "SNPrLjUAzafT"
      }
    },
    {
      "cell_type": "code",
      "source": [
        "import plotly.express as px\n",
        "\n",
        "# Data\n",
        "data = {\n",
        "    'Continent': ['Africa', 'Asia', 'Europe', 'North America'],\n",
        "    'Average Salary (USD)': [58750.000000, 33292.507143, 58203.340984, 108677.844968],\n",
        "    'Latitude': [6.1750, 34.0479, 51.1657, 37.7749],  # Sample latitude coordinates for each continent\n",
        "    'Longitude': [1.2340, 100.6197, 10.4515, -122.4194]  # Sample longitude coordinates for each continent\n",
        "}\n",
        "\n",
        "# Create DataFrame\n",
        "df = pd.DataFrame(data)\n",
        "\n",
        "# Create a scatter map using Plotly Express\n",
        "fig = px.scatter_geo(df,\n",
        "                     lat='Latitude',  # Latitude coordinates\n",
        "                     lon='Longitude',  # Longitude coordinates\n",
        "                     hover_name='Continent',  # Hover text\n",
        "                     size='Average Salary (USD)',  # Size of the point based on average salary\n",
        "                     color='Average Salary (USD)',  # Color of the point based on average salary\n",
        "                     projection='natural earth',  # Choose projection type\n",
        "                     labels={'Average Salary (USD)': 'Average Salary (USD)'}  # Label for legend\n",
        "                    )\n",
        "\n",
        "# Update layout settings\n",
        "fig.update_layout(\n",
        "    title='Average Salary by Continent',\n",
        "    geo=dict(\n",
        "        showcoastlines=True,  # Show coastlines on the map\n",
        "    )\n",
        ")\n",
        "\n",
        "# Show th\n",
        "\n",
        "\n"
      ],
      "metadata": {
        "colab": {
          "base_uri": "https://localhost:8080/",
          "height": 542
        },
        "id": "j-XFMdGka_f4",
        "outputId": "6d6e8016-babb-4db4-f6ea-8441ca925369"
      },
      "execution_count": 74,
      "outputs": [
        {
          "output_type": "display_data",
          "data": {
            "text/html": [
              "<html>\n",
              "<head><meta charset=\"utf-8\" /></head>\n",
              "<body>\n",
              "    <div>            <script src=\"https://cdnjs.cloudflare.com/ajax/libs/mathjax/2.7.5/MathJax.js?config=TeX-AMS-MML_SVG\"></script><script type=\"text/javascript\">if (window.MathJax && window.MathJax.Hub && window.MathJax.Hub.Config) {window.MathJax.Hub.Config({SVG: {font: \"STIX-Web\"}});}</script>                <script type=\"text/javascript\">window.PlotlyConfig = {MathJaxConfig: 'local'};</script>\n",
              "        <script charset=\"utf-8\" src=\"https://cdn.plot.ly/plotly-2.24.1.min.js\"></script>                <div id=\"1a61b1e4-6528-4517-a2f6-e2f82ba8fe45\" class=\"plotly-graph-div\" style=\"height:525px; width:100%;\"></div>            <script type=\"text/javascript\">                                    window.PLOTLYENV=window.PLOTLYENV || {};                                    if (document.getElementById(\"1a61b1e4-6528-4517-a2f6-e2f82ba8fe45\")) {                    Plotly.newPlot(                        \"1a61b1e4-6528-4517-a2f6-e2f82ba8fe45\",                        [{\"geo\":\"geo\",\"hovertemplate\":\"\\u003cb\\u003e%{hovertext}\\u003c\\u002fb\\u003e\\u003cbr\\u003e\\u003cbr\\u003eAverage Salary (USD)=%{marker.color}\\u003cbr\\u003eLatitude=%{lat}\\u003cbr\\u003eLongitude=%{lon}\\u003cextra\\u003e\\u003c\\u002fextra\\u003e\",\"hovertext\":[\"Africa\",\"Asia\",\"Europe\",\"North America\"],\"lat\":[6.175,34.0479,51.1657,37.7749],\"legendgroup\":\"\",\"lon\":[1.234,100.6197,10.4515,-122.4194],\"marker\":{\"color\":[58750.0,33292.507143,58203.340984,108677.844968],\"coloraxis\":\"coloraxis\",\"size\":[58750.0,33292.507143,58203.340984,108677.844968],\"sizemode\":\"area\",\"sizeref\":271.69461242,\"symbol\":\"circle\"},\"mode\":\"markers\",\"name\":\"\",\"showlegend\":false,\"type\":\"scattergeo\"}],                        {\"template\":{\"data\":{\"histogram2dcontour\":[{\"type\":\"histogram2dcontour\",\"colorbar\":{\"outlinewidth\":0,\"ticks\":\"\"},\"colorscale\":[[0.0,\"#0d0887\"],[0.1111111111111111,\"#46039f\"],[0.2222222222222222,\"#7201a8\"],[0.3333333333333333,\"#9c179e\"],[0.4444444444444444,\"#bd3786\"],[0.5555555555555556,\"#d8576b\"],[0.6666666666666666,\"#ed7953\"],[0.7777777777777778,\"#fb9f3a\"],[0.8888888888888888,\"#fdca26\"],[1.0,\"#f0f921\"]]}],\"choropleth\":[{\"type\":\"choropleth\",\"colorbar\":{\"outlinewidth\":0,\"ticks\":\"\"}}],\"histogram2d\":[{\"type\":\"histogram2d\",\"colorbar\":{\"outlinewidth\":0,\"ticks\":\"\"},\"colorscale\":[[0.0,\"#0d0887\"],[0.1111111111111111,\"#46039f\"],[0.2222222222222222,\"#7201a8\"],[0.3333333333333333,\"#9c179e\"],[0.4444444444444444,\"#bd3786\"],[0.5555555555555556,\"#d8576b\"],[0.6666666666666666,\"#ed7953\"],[0.7777777777777778,\"#fb9f3a\"],[0.8888888888888888,\"#fdca26\"],[1.0,\"#f0f921\"]]}],\"heatmap\":[{\"type\":\"heatmap\",\"colorbar\":{\"outlinewidth\":0,\"ticks\":\"\"},\"colorscale\":[[0.0,\"#0d0887\"],[0.1111111111111111,\"#46039f\"],[0.2222222222222222,\"#7201a8\"],[0.3333333333333333,\"#9c179e\"],[0.4444444444444444,\"#bd3786\"],[0.5555555555555556,\"#d8576b\"],[0.6666666666666666,\"#ed7953\"],[0.7777777777777778,\"#fb9f3a\"],[0.8888888888888888,\"#fdca26\"],[1.0,\"#f0f921\"]]}],\"heatmapgl\":[{\"type\":\"heatmapgl\",\"colorbar\":{\"outlinewidth\":0,\"ticks\":\"\"},\"colorscale\":[[0.0,\"#0d0887\"],[0.1111111111111111,\"#46039f\"],[0.2222222222222222,\"#7201a8\"],[0.3333333333333333,\"#9c179e\"],[0.4444444444444444,\"#bd3786\"],[0.5555555555555556,\"#d8576b\"],[0.6666666666666666,\"#ed7953\"],[0.7777777777777778,\"#fb9f3a\"],[0.8888888888888888,\"#fdca26\"],[1.0,\"#f0f921\"]]}],\"contourcarpet\":[{\"type\":\"contourcarpet\",\"colorbar\":{\"outlinewidth\":0,\"ticks\":\"\"}}],\"contour\":[{\"type\":\"contour\",\"colorbar\":{\"outlinewidth\":0,\"ticks\":\"\"},\"colorscale\":[[0.0,\"#0d0887\"],[0.1111111111111111,\"#46039f\"],[0.2222222222222222,\"#7201a8\"],[0.3333333333333333,\"#9c179e\"],[0.4444444444444444,\"#bd3786\"],[0.5555555555555556,\"#d8576b\"],[0.6666666666666666,\"#ed7953\"],[0.7777777777777778,\"#fb9f3a\"],[0.8888888888888888,\"#fdca26\"],[1.0,\"#f0f921\"]]}],\"surface\":[{\"type\":\"surface\",\"colorbar\":{\"outlinewidth\":0,\"ticks\":\"\"},\"colorscale\":[[0.0,\"#0d0887\"],[0.1111111111111111,\"#46039f\"],[0.2222222222222222,\"#7201a8\"],[0.3333333333333333,\"#9c179e\"],[0.4444444444444444,\"#bd3786\"],[0.5555555555555556,\"#d8576b\"],[0.6666666666666666,\"#ed7953\"],[0.7777777777777778,\"#fb9f3a\"],[0.8888888888888888,\"#fdca26\"],[1.0,\"#f0f921\"]]}],\"mesh3d\":[{\"type\":\"mesh3d\",\"colorbar\":{\"outlinewidth\":0,\"ticks\":\"\"}}],\"scatter\":[{\"fillpattern\":{\"fillmode\":\"overlay\",\"size\":10,\"solidity\":0.2},\"type\":\"scatter\"}],\"parcoords\":[{\"type\":\"parcoords\",\"line\":{\"colorbar\":{\"outlinewidth\":0,\"ticks\":\"\"}}}],\"scatterpolargl\":[{\"type\":\"scatterpolargl\",\"marker\":{\"colorbar\":{\"outlinewidth\":0,\"ticks\":\"\"}}}],\"bar\":[{\"error_x\":{\"color\":\"#2a3f5f\"},\"error_y\":{\"color\":\"#2a3f5f\"},\"marker\":{\"line\":{\"color\":\"#E5ECF6\",\"width\":0.5},\"pattern\":{\"fillmode\":\"overlay\",\"size\":10,\"solidity\":0.2}},\"type\":\"bar\"}],\"scattergeo\":[{\"type\":\"scattergeo\",\"marker\":{\"colorbar\":{\"outlinewidth\":0,\"ticks\":\"\"}}}],\"scatterpolar\":[{\"type\":\"scatterpolar\",\"marker\":{\"colorbar\":{\"outlinewidth\":0,\"ticks\":\"\"}}}],\"histogram\":[{\"marker\":{\"pattern\":{\"fillmode\":\"overlay\",\"size\":10,\"solidity\":0.2}},\"type\":\"histogram\"}],\"scattergl\":[{\"type\":\"scattergl\",\"marker\":{\"colorbar\":{\"outlinewidth\":0,\"ticks\":\"\"}}}],\"scatter3d\":[{\"type\":\"scatter3d\",\"line\":{\"colorbar\":{\"outlinewidth\":0,\"ticks\":\"\"}},\"marker\":{\"colorbar\":{\"outlinewidth\":0,\"ticks\":\"\"}}}],\"scattermapbox\":[{\"type\":\"scattermapbox\",\"marker\":{\"colorbar\":{\"outlinewidth\":0,\"ticks\":\"\"}}}],\"scatterternary\":[{\"type\":\"scatterternary\",\"marker\":{\"colorbar\":{\"outlinewidth\":0,\"ticks\":\"\"}}}],\"scattercarpet\":[{\"type\":\"scattercarpet\",\"marker\":{\"colorbar\":{\"outlinewidth\":0,\"ticks\":\"\"}}}],\"carpet\":[{\"aaxis\":{\"endlinecolor\":\"#2a3f5f\",\"gridcolor\":\"white\",\"linecolor\":\"white\",\"minorgridcolor\":\"white\",\"startlinecolor\":\"#2a3f5f\"},\"baxis\":{\"endlinecolor\":\"#2a3f5f\",\"gridcolor\":\"white\",\"linecolor\":\"white\",\"minorgridcolor\":\"white\",\"startlinecolor\":\"#2a3f5f\"},\"type\":\"carpet\"}],\"table\":[{\"cells\":{\"fill\":{\"color\":\"#EBF0F8\"},\"line\":{\"color\":\"white\"}},\"header\":{\"fill\":{\"color\":\"#C8D4E3\"},\"line\":{\"color\":\"white\"}},\"type\":\"table\"}],\"barpolar\":[{\"marker\":{\"line\":{\"color\":\"#E5ECF6\",\"width\":0.5},\"pattern\":{\"fillmode\":\"overlay\",\"size\":10,\"solidity\":0.2}},\"type\":\"barpolar\"}],\"pie\":[{\"automargin\":true,\"type\":\"pie\"}]},\"layout\":{\"autotypenumbers\":\"strict\",\"colorway\":[\"#636efa\",\"#EF553B\",\"#00cc96\",\"#ab63fa\",\"#FFA15A\",\"#19d3f3\",\"#FF6692\",\"#B6E880\",\"#FF97FF\",\"#FECB52\"],\"font\":{\"color\":\"#2a3f5f\"},\"hovermode\":\"closest\",\"hoverlabel\":{\"align\":\"left\"},\"paper_bgcolor\":\"white\",\"plot_bgcolor\":\"#E5ECF6\",\"polar\":{\"bgcolor\":\"#E5ECF6\",\"angularaxis\":{\"gridcolor\":\"white\",\"linecolor\":\"white\",\"ticks\":\"\"},\"radialaxis\":{\"gridcolor\":\"white\",\"linecolor\":\"white\",\"ticks\":\"\"}},\"ternary\":{\"bgcolor\":\"#E5ECF6\",\"aaxis\":{\"gridcolor\":\"white\",\"linecolor\":\"white\",\"ticks\":\"\"},\"baxis\":{\"gridcolor\":\"white\",\"linecolor\":\"white\",\"ticks\":\"\"},\"caxis\":{\"gridcolor\":\"white\",\"linecolor\":\"white\",\"ticks\":\"\"}},\"coloraxis\":{\"colorbar\":{\"outlinewidth\":0,\"ticks\":\"\"}},\"colorscale\":{\"sequential\":[[0.0,\"#0d0887\"],[0.1111111111111111,\"#46039f\"],[0.2222222222222222,\"#7201a8\"],[0.3333333333333333,\"#9c179e\"],[0.4444444444444444,\"#bd3786\"],[0.5555555555555556,\"#d8576b\"],[0.6666666666666666,\"#ed7953\"],[0.7777777777777778,\"#fb9f3a\"],[0.8888888888888888,\"#fdca26\"],[1.0,\"#f0f921\"]],\"sequentialminus\":[[0.0,\"#0d0887\"],[0.1111111111111111,\"#46039f\"],[0.2222222222222222,\"#7201a8\"],[0.3333333333333333,\"#9c179e\"],[0.4444444444444444,\"#bd3786\"],[0.5555555555555556,\"#d8576b\"],[0.6666666666666666,\"#ed7953\"],[0.7777777777777778,\"#fb9f3a\"],[0.8888888888888888,\"#fdca26\"],[1.0,\"#f0f921\"]],\"diverging\":[[0,\"#8e0152\"],[0.1,\"#c51b7d\"],[0.2,\"#de77ae\"],[0.3,\"#f1b6da\"],[0.4,\"#fde0ef\"],[0.5,\"#f7f7f7\"],[0.6,\"#e6f5d0\"],[0.7,\"#b8e186\"],[0.8,\"#7fbc41\"],[0.9,\"#4d9221\"],[1,\"#276419\"]]},\"xaxis\":{\"gridcolor\":\"white\",\"linecolor\":\"white\",\"ticks\":\"\",\"title\":{\"standoff\":15},\"zerolinecolor\":\"white\",\"automargin\":true,\"zerolinewidth\":2},\"yaxis\":{\"gridcolor\":\"white\",\"linecolor\":\"white\",\"ticks\":\"\",\"title\":{\"standoff\":15},\"zerolinecolor\":\"white\",\"automargin\":true,\"zerolinewidth\":2},\"scene\":{\"xaxis\":{\"backgroundcolor\":\"#E5ECF6\",\"gridcolor\":\"white\",\"linecolor\":\"white\",\"showbackground\":true,\"ticks\":\"\",\"zerolinecolor\":\"white\",\"gridwidth\":2},\"yaxis\":{\"backgroundcolor\":\"#E5ECF6\",\"gridcolor\":\"white\",\"linecolor\":\"white\",\"showbackground\":true,\"ticks\":\"\",\"zerolinecolor\":\"white\",\"gridwidth\":2},\"zaxis\":{\"backgroundcolor\":\"#E5ECF6\",\"gridcolor\":\"white\",\"linecolor\":\"white\",\"showbackground\":true,\"ticks\":\"\",\"zerolinecolor\":\"white\",\"gridwidth\":2}},\"shapedefaults\":{\"line\":{\"color\":\"#2a3f5f\"}},\"annotationdefaults\":{\"arrowcolor\":\"#2a3f5f\",\"arrowhead\":0,\"arrowwidth\":1},\"geo\":{\"bgcolor\":\"white\",\"landcolor\":\"#E5ECF6\",\"subunitcolor\":\"white\",\"showland\":true,\"showlakes\":true,\"lakecolor\":\"white\"},\"title\":{\"x\":0.05},\"mapbox\":{\"style\":\"light\"}}},\"geo\":{\"domain\":{\"x\":[0.0,1.0],\"y\":[0.0,1.0]},\"projection\":{\"type\":\"natural earth\"},\"center\":{},\"showcoastlines\":true},\"coloraxis\":{\"colorbar\":{\"title\":{\"text\":\"Average Salary (USD)\"}},\"colorscale\":[[0.0,\"#0d0887\"],[0.1111111111111111,\"#46039f\"],[0.2222222222222222,\"#7201a8\"],[0.3333333333333333,\"#9c179e\"],[0.4444444444444444,\"#bd3786\"],[0.5555555555555556,\"#d8576b\"],[0.6666666666666666,\"#ed7953\"],[0.7777777777777778,\"#fb9f3a\"],[0.8888888888888888,\"#fdca26\"],[1.0,\"#f0f921\"]]},\"legend\":{\"tracegroupgap\":0,\"itemsizing\":\"constant\"},\"margin\":{\"t\":60},\"title\":{\"text\":\"Average Salary by Continent\"}},                        {\"responsive\": true}                    ).then(function(){\n",
              "                            \n",
              "var gd = document.getElementById('1a61b1e4-6528-4517-a2f6-e2f82ba8fe45');\n",
              "var x = new MutationObserver(function (mutations, observer) {{\n",
              "        var display = window.getComputedStyle(gd).display;\n",
              "        if (!display || display === 'none') {{\n",
              "            console.log([gd, 'removed!']);\n",
              "            Plotly.purge(gd);\n",
              "            observer.disconnect();\n",
              "        }}\n",
              "}});\n",
              "\n",
              "// Listen for the removal of the full notebook cells\n",
              "var notebookContainer = gd.closest('#notebook-container');\n",
              "if (notebookContainer) {{\n",
              "    x.observe(notebookContainer, {childList: true});\n",
              "}}\n",
              "\n",
              "// Listen for the clearing of the current output cell\n",
              "var outputEl = gd.closest('.output');\n",
              "if (outputEl) {{\n",
              "    x.observe(outputEl, {childList: true});\n",
              "}}\n",
              "\n",
              "                        })                };                            </script>        </div>\n",
              "</body>\n",
              "</html>"
            ]
          },
          "metadata": {}
        }
      ]
    },
    {
      "cell_type": "markdown",
      "source": [
        "## Conclusion:\n",
        "\n",
        "\n",
        "In conclusion, the analysis reveals significant variations in average salaries across different continents and experience levels within the data field.\n",
        "\n",
        "Across Africa, Europe, North America, Oceania, and South America, mid and senior-level positions generally command higher average salaries compared to entry-level and experienced roles. Notably, Asia stands out with exceptionally high average salaries for mid and senior-level positions, indicating strong demand and lucrative opportunities for experienced data professionals in the region.\n",
        "\n",
        "These findings underscore the importance of considering regional dynamics and experience levels when assessing compensation within the data industry. Such insights are invaluable for professionals seeking career advancement, organizations recruiting top talent, and policymakers shaping policies to support the growth of the data sector worldwide."
      ],
      "metadata": {
        "id": "kb1V9Du5zqcR"
      }
    },
    {
      "cell_type": "markdown",
      "source": [
        "## References:\n",
        "\n",
        "\n",
        "Dataset from kaggle and linkedin\n",
        "https://www.kaggle.com/datasets/arnabchaki/data-science-salaries-2023"
      ],
      "metadata": {
        "id": "LfH57Aro0CIe"
      }
    }
  ]
}